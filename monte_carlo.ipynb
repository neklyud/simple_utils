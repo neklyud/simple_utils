{
  "nbformat": 4,
  "nbformat_minor": 0,
  "metadata": {
    "colab": {
      "name": "monte-carlo",
      "provenance": [],
      "collapsed_sections": [],
      "include_colab_link": true
    },
    "kernelspec": {
      "name": "python3",
      "display_name": "Python 3"
    }
  },
  "cells": [
    {
      "cell_type": "markdown",
      "metadata": {
        "id": "view-in-github",
        "colab_type": "text"
      },
      "source": [
        "<a href=\"https://colab.research.google.com/github/neklyud/simple_utils/blob/master/monte_carlo.ipynb\" target=\"_parent\"><img src=\"https://colab.research.google.com/assets/colab-badge.svg\" alt=\"Open In Colab\"/></a>"
      ]
    },
    {
      "cell_type": "code",
      "metadata": {
        "id": "f4EjUZwnTInq",
        "colab_type": "code",
        "colab": {}
      },
      "source": [
        "import numpy as np\n",
        "\n",
        "M1 = np.random.normal(400000, 500, 1000000)\n",
        "M2 = np.random.normal(300000, 1000, 1000000)\n",
        "r = np.random.normal(3.2, 0.01, 1000000)\n",
        "G = 6.67384*10**-11"
      ],
      "execution_count": 0,
      "outputs": []
    },
    {
      "cell_type": "code",
      "metadata": {
        "id": "3OcmyCe6TMOT",
        "colab_type": "code",
        "colab": {}
      },
      "source": [
        "F = G*M1*M2/r**2"
      ],
      "execution_count": 0,
      "outputs": []
    },
    {
      "cell_type": "code",
      "metadata": {
        "id": "yfzElnB664Yz",
        "colab_type": "code",
        "outputId": "84e73c5e-4546-4a9c-e486-7611a111a8ef",
        "colab": {
          "base_uri": "https://localhost:8080/",
          "height": 34
        }
      },
      "source": [
        "#Посчитаем значение функции и стандартные отклонения M1*M2*G:\n",
        "import numpy as np\n",
        "M1M2G = 400000*300000*G\n",
        "stdM1M2G = M1M2G*(np.power(500/400000,2) + np.power(1000/300000,2))\n",
        "print(stdM1M2G)"
      ],
      "execution_count": 0,
      "outputs": [
        {
          "output_type": "stream",
          "text": [
            "0.00010149798333333336\n"
          ],
          "name": "stdout"
        }
      ]
    },
    {
      "cell_type": "code",
      "metadata": {
        "id": "uCxLni-i7Y82",
        "colab_type": "code",
        "outputId": "94460290-98be-4fcf-81b7-e8f4def382c3",
        "colab": {
          "base_uri": "https://localhost:8080/",
          "height": 34
        }
      },
      "source": [
        "#Посчитаем значение функции и стандартное отклонение r**2:\n",
        "rr =  np.power(3.2, 2)\n",
        "stdrr = abs(3.2**2*2*0.01/3.2)\n",
        "print(stdrr)"
      ],
      "execution_count": 0,
      "outputs": [
        {
          "output_type": "stream",
          "text": [
            "0.064\n"
          ],
          "name": "stdout"
        }
      ]
    },
    {
      "cell_type": "code",
      "metadata": {
        "id": "x10R6AaA8kTO",
        "colab_type": "code",
        "outputId": "1e58f8cb-c9d6-4734-ef78-050c6cac2161",
        "colab": {
          "base_uri": "https://localhost:8080/",
          "height": 34
        }
      },
      "source": [
        "#Посчитаем значение функции и стандартное отклонение для M1M2G/rr:\n",
        "f = M1M2G/rr\n",
        "stdf = f*np.abs(np.power(stdrr/rr,2) + np.power(stdM1M2G/M1M2G,2))\n",
        "print(f, '+-', stdf)"
      ],
      "execution_count": 0,
      "outputs": [
        {
          "output_type": "stream",
          "text": [
            "0.7820906249999999 +- 3.055054065878605e-05\n"
          ],
          "name": "stdout"
        }
      ]
    },
    {
      "cell_type": "code",
      "metadata": {
        "id": "wdR1lWyW9Idn",
        "colab_type": "code",
        "colab": {}
      },
      "source": [
        "#Сформируем нормальное распределение для полученных значений:\n",
        "F_gauss = np.random.normal(0.7820906249999999, 3.055054065878605e-05, 1000000)"
      ],
      "execution_count": 0,
      "outputs": []
    },
    {
      "cell_type": "code",
      "metadata": {
        "id": "xnPlx161aOct",
        "colab_type": "code",
        "outputId": "e6dd3aaf-b598-4520-f732-f48ea40b6062",
        "colab": {
          "base_uri": "https://localhost:8080/",
          "height": 282
        }
      },
      "source": [
        "import matplotlib.pyplot as plt\n",
        "import numpy as np\n",
        "\n",
        "x = F\n",
        "hist, bins = np.histogram(x, bins=20)\n",
        "\n",
        "width = np.diff(bins)\n",
        "center = (bins[:-1] + bins[1:]) / 2\n",
        "fig, ax = plt.subplots(figsize=(15,4))\n",
        "ax.bar(center, hist, align='center', width=width)\n",
        "ax.set_xticks(bins)\n",
        "fig.savefig(\"/tmp/out.png\")\n",
        "plt.show()"
      ],
      "execution_count": 0,
      "outputs": [
        {
          "output_type": "display_data",
          "data": {
            "image/png": "[encoded data removed]",
            "text/plain": [
              "<Figure size 1080x288 with 1 Axes>"
            ]
          },
          "metadata": {
            "tags": []
          }
        }
      ]
    },
    {
      "cell_type": "code",
      "metadata": {
        "id": "kEc27PC59iNH",
        "colab_type": "code",
        "outputId": "3b6354ee-3eaa-4860-c1d1-dde0da0f9870",
        "colab": {
          "base_uri": "https://localhost:8080/",
          "height": 299
        }
      },
      "source": [
        "print(len(F_gauss))\n",
        "plt.plot(F_gauss, x_gauss)"
      ],
      "execution_count": 0,
      "outputs": [
        {
          "output_type": "stream",
          "text": [
            "1000000\n"
          ],
          "name": "stdout"
        },
        {
          "output_type": "execute_result",
          "data": {
            "text/plain": [
              "[<matplotlib.lines.Line2D at 0x7f46a38d1eb8>]"
            ]
          },
          "metadata": {
            "tags": []
          },
          "execution_count": 64
        },
        {
          "output_type": "display_data",
          "data": {
            "image/png": "[encoded data removed]",
            "text/plain": [
              "<Figure size 432x288 with 1 Axes>"
            ]
          },
          "metadata": {
            "tags": []
          }
        }
      ]
    },
    {
      "cell_type": "code",
      "metadata": {
        "id": "zPiwfOqT9nWv",
        "colab_type": "code",
        "colab": {}
      },
      "source": [
        "import matplotlib.pyplot as plt\n",
        "import numpy as np\n",
        "\n",
        "x = F_gauss\n",
        "hist, bins = np.histogram(x, bins=len(x))\n",
        "\n",
        "width = np.diff(bins)\n",
        "fig, ax = plt.subplots(figsize=(15,4))\n",
        "ax.set_xticks(bins)\n",
        "ax.plot(F_gauss,bins)\n",
        "fig.savefig(\"/tmp/out.png\")\n",
        "plt.show()"
      ],
      "execution_count": 0,
      "outputs": []
    },
    {
      "cell_type": "code",
      "metadata": {
        "id": "Ja_35Sk493-a",
        "colab_type": "code",
        "colab": {}
      },
      "source": [
        ""
      ],
      "execution_count": 0,
      "outputs": []
    }
  ]
}