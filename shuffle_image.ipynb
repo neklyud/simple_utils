{
  "nbformat": 4,
  "nbformat_minor": 0,
  "metadata": {
    "colab": {
      "name": "shuffle_image",
      "provenance": [],
      "collapsed_sections": [],
      "include_colab_link": true
    },
    "kernelspec": {
      "name": "python3",
      "display_name": "Python 3"
    }
  },
  "cells": [
    {
      "cell_type": "markdown",
      "metadata": {
        "id": "view-in-github",
        "colab_type": "text"
      },
      "source": [
        "<a href=\"https://colab.research.google.com/github/neklyud/simple_utils/blob/master/shuffle_image.ipynb\" target=\"_parent\"><img src=\"https://colab.research.google.com/assets/colab-badge.svg\" alt=\"Open In Colab\"/></a>"
      ]
    },
    {
      "cell_type": "code",
      "metadata": {
        "id": "MPmmAUD6VME2",
        "colab_type": "code",
        "colab": {}
      },
      "source": [
        "import random\n",
        "import os\n",
        "import requests"
      ],
      "execution_count": 0,
      "outputs": []
    },
    {
      "cell_type": "markdown",
      "metadata": {
        "id": "hdTuXSxtWdGg",
        "colab_type": "text"
      },
      "source": [
        ""
      ]
    },
    {
      "cell_type": "code",
      "metadata": {
        "id": "ie8DzoMAVVhl",
        "colab_type": "code",
        "colab": {}
      },
      "source": [
        "url_image = 'https://upload.wikimedia.org/wikipedia/commons/thumb/4/41/Sunflower_from_Silesia2.jpg/800px-Sunflower_from_Silesia2.jpg'\n",
        "r = requests.get(url_image)"
      ],
      "execution_count": 0,
      "outputs": []
    },
    {
      "cell_type": "code",
      "metadata": {
        "id": "dxokV4FUWgAM",
        "colab_type": "code",
        "outputId": "3c30dfbd-99fd-4448-e324-48bd66ac9647",
        "colab": {
          "base_uri": "https://localhost:8080/",
          "height": 34
        }
      },
      "source": [
        "import imghdr\n",
        "from pathlib import Path\n",
        "import requests  # $ pip install requests\n",
        "\n",
        "img_path = Path(r'1.jpg')\n",
        "r = requests.get(url_image)\n",
        "if r.ok:\n",
        "    img_path.write_bytes(r.content)  \n",
        "    if imghdr.what(img_path) == 'jpeg':\n",
        "        print('выглядит как JPEG картинка')"
      ],
      "execution_count": 0,
      "outputs": [
        {
          "output_type": "stream",
          "text": [
            "выглядит как JPEG картинка\n"
          ],
          "name": "stdout"
        }
      ]
    },
    {
      "cell_type": "code",
      "metadata": {
        "id": "yaNNeUkfWaCo",
        "colab_type": "code",
        "outputId": "a45142d0-4cfb-4d3f-abb8-fc97b866bad5",
        "colab": {
          "base_uri": "https://localhost:8080/",
          "height": 68
        }
      },
      "source": [
        "from PIL import Image\n",
        " \n",
        "def resize_image(input_image_path,\n",
        "                 output_image_path,\n",
        "                 size):\n",
        "    original_image = Image.open(input_image_path)\n",
        "    width, height = original_image.size\n",
        "    print('The original image size is {wide} wide x {height} '\n",
        "          'high'.format(wide=width, height=height))\n",
        " \n",
        "    resized_image = original_image.resize(size)\n",
        "    width, height = resized_image.size\n",
        "    print('The resized image size is {wide} wide x {height} '\n",
        "          'high'.format(wide=width, height=height))\n",
        "    resized_image.show()\n",
        "    print(resized_image, original_image)\n",
        "    #resized_image.save(output_image_path)\n",
        " \n",
        "\n",
        "resize_image(input_image_path='1.jpg',output_image_path='caterpillar_small.jpg', size=(800, 400))"
      ],
      "execution_count": 0,
      "outputs": [
        {
          "output_type": "stream",
          "text": [
            "The original image size is 800 wide x 558 high\n",
            "The resized image size is 800 wide x 400 high\n",
            "<PIL.Image.Image image mode=RGB size=800x400 at 0x7F84F07D19E8> <PIL.JpegImagePlugin.JpegImageFile image mode=RGB size=800x558 at 0x7F84F07D1CF8>\n"
          ],
          "name": "stdout"
        }
      ]
    },
    {
      "cell_type": "code",
      "metadata": {
        "id": "4jGuBMrMblJ5",
        "colab_type": "code",
        "outputId": "86a27897-06cc-4793-a5bc-b4ab4e3df44f",
        "colab": {
          "base_uri": "https://localhost:8080/",
          "height": 51
        }
      },
      "source": [
        "import numpy as np\n",
        "from PIL import Image\n",
        "\n",
        "original_image = Image.open('1.jpg')\n",
        "img = np.array(original_image)\n",
        "\n",
        "dx = random.randint(1, 10)\n",
        "dy = random.randint(1, 10)\n",
        "\n",
        "resized_image = original_image.resize((512 + dx, 512 + dy))\n",
        "img = np.array(original_image)\n",
        "resized_image.show()\n",
        "resized_image.save(\"./2.jpg\")\n",
        "\n",
        "dx = random.randint(0, dx)\n",
        "dy = random.randint(0, dy)\n",
        "print(resized_image.size)\n",
        "print(dx, dy)\n",
        "\n",
        "resized_image.crop((dx, dy, 512 + dx, 512 + dy)).save(\"./3.jpg\") "
      ],
      "execution_count": 0,
      "outputs": [
        {
          "output_type": "stream",
          "text": [
            "(516, 516)\n",
            "3 2\n"
          ],
          "name": "stdout"
        }
      ]
    },
    {
      "cell_type": "code",
      "metadata": {
        "id": "cHgQKVzr5-Yc",
        "colab_type": "code",
        "colab": {}
      },
      "source": [
        "a = np.random.randint(10, size = (512,512))"
      ],
      "execution_count": 0,
      "outputs": []
    },
    {
      "cell_type": "code",
      "metadata": {
        "id": "iczR5g4KctCs",
        "colab_type": "code",
        "outputId": "147c935e-ec0f-4ccc-ed27-0a5d6993e568",
        "colab": {
          "base_uri": "https://localhost:8080/",
          "height": 34
        }
      },
      "source": [
        "img = Image.fromarray(a.astype('uint8'))\n",
        "img = img.convert(\"RGB\")\n",
        "img.save(\"./noise.jpg\", \"JPEG\")\n",
        "\n",
        "dx = random.randint(1, 10)\n",
        "dy = random.randint(1, 10)\n",
        "\n",
        "resized_image = img.resize((512 + dx, 512 + dy))\n",
        "\n",
        "dx = random.randint(0, dx)\n",
        "dy = random.randint(0, dy)\n",
        "print(resized_image.size)\n",
        "\n",
        "resized_image.crop((dx, dy, 512 + dx, 512 + dy)).save(\"./noise.jpg\")\n",
        "\n"
      ],
      "execution_count": 0,
      "outputs": [
        {
          "output_type": "stream",
          "text": [
            "(513, 519)\n"
          ],
          "name": "stdout"
        }
      ]
    },
    {
      "cell_type": "code",
      "metadata": {
        "id": "mCpCaDrn9gUh",
        "colab_type": "code",
        "colab": {}
      },
      "source": [
        ""
      ],
      "execution_count": 0,
      "outputs": []
    }
  ]
}